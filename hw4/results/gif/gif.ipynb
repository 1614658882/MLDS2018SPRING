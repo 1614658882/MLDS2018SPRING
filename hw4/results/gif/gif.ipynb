{
 "cells": [
  {
   "cell_type": "code",
   "execution_count": null,
   "metadata": {},
   "outputs": [],
   "source": [
    "!apt update && apt install -y libsm6 libxext6 libxrender-dev"
   ]
  },
  {
   "cell_type": "code",
   "execution_count": null,
   "metadata": {},
   "outputs": [],
   "source": [
    "!apt install zlib1g-dev cmake -y"
   ]
  },
  {
   "cell_type": "code",
   "execution_count": null,
   "metadata": {},
   "outputs": [],
   "source": [
    "!pip install gym\n",
    "!pip install opencv-python\n",
    "!pip install gym[atari]"
   ]
  },
  {
   "cell_type": "code",
   "execution_count": 22,
   "metadata": {},
   "outputs": [
    {
     "name": "stdout",
     "output_type": "stream",
     "text": [
      "2018-07-12 12:58:28.573072: I tensorflow/core/platform/cpu_feature_guard.cc:141] Your CPU supports instructions that this TensorFlow binary was not compiled to use: AVX2 FMA\n",
      "2018-07-12 12:58:28.766783: E tensorflow/stream_executor/cuda/cuda_gpu_executor.cc:883] could not open file to read NUMA node: /sys/bus/pci/devices/0000:04:00.0/numa_node\n",
      "Your kernel may have been built without NUMA support.\n",
      "2018-07-12 12:58:28.770923: I tensorflow/core/common_runtime/gpu/gpu_device.cc:1392] Found device 0 with properties: \n",
      "name: GeForce GTX 1080 Ti major: 6 minor: 1 memoryClockRate(GHz): 1.6325\n",
      "pciBusID: 0000:04:00.0\n",
      "totalMemory: 10.91GiB freeMemory: 10.75GiB\n",
      "2018-07-12 12:58:28.770962: I tensorflow/core/common_runtime/gpu/gpu_device.cc:1471] Adding visible gpu devices: 0\n",
      "2018-07-12 12:58:29.045208: I tensorflow/core/common_runtime/gpu/gpu_device.cc:952] Device interconnect StreamExecutor with strength 1 edge matrix:\n",
      "2018-07-12 12:58:29.045260: I tensorflow/core/common_runtime/gpu/gpu_device.cc:958]      0 \n",
      "2018-07-12 12:58:29.045270: I tensorflow/core/common_runtime/gpu/gpu_device.cc:971] 0:   N \n",
      "2018-07-12 12:58:29.045507: I tensorflow/core/common_runtime/gpu/gpu_device.cc:1158] Could not identify NUMA node of CUDA gpu id 0, defaulting to 0.  Your kernel may not have been built with NUMA support.\n",
      "2018-07-12 12:58:29.045573: I tensorflow/core/common_runtime/gpu/gpu_device.cc:1084] Created TensorFlow device (/job:localhost/replica:0/task:0/device:GPU:0 with 10401 MB memory) -> physical GPU (device: 0, name: GeForce GTX 1080 Ti, pci bus id: 0000:04:00.0, compute capability: 6.1)\n",
      "2018-07-12 12:58:29.046982: I tensorflow/core/common_runtime/gpu/gpu_device.cc:1471] Adding visible gpu devices: 0\n",
      "2018-07-12 12:58:29.047017: I tensorflow/core/common_runtime/gpu/gpu_device.cc:952] Device interconnect StreamExecutor with strength 1 edge matrix:\n",
      "2018-07-12 12:58:29.047028: I tensorflow/core/common_runtime/gpu/gpu_device.cc:958]      0 \n",
      "2018-07-12 12:58:29.047037: I tensorflow/core/common_runtime/gpu/gpu_device.cc:971] 0:   N \n",
      "2018-07-12 12:58:29.047256: I tensorflow/core/common_runtime/gpu/gpu_device.cc:1158] Could not identify NUMA node of CUDA gpu id 0, defaulting to 0.  Your kernel may not have been built with NUMA support.\n",
      "2018-07-12 12:58:29.047283: I tensorflow/core/common_runtime/gpu/gpu_device.cc:1084] Created TensorFlow device (/job:localhost/replica:0/task:0/device:GPU:0 with 10401 MB memory) -> physical GPU (device: 0, name: GeForce GTX 1080 Ti, pci bus id: 0000:04:00.0, compute capability: 6.1)\n",
      "Loading trained model...\n",
      "Loading checkpoint...\n",
      "Episode 0, Reward 18\n",
      "Saving frames to ep000_018.npy...\n",
      "Episode 1, Reward 17\n",
      "Episode 2, Reward 18\n",
      "Episode 3, Reward 19\n",
      "Saving frames to ep003_019.npy...\n",
      "Episode 4, Reward 13\n",
      "Episode 5, Reward 17\n",
      "Episode 6, Reward 9\n",
      "Episode 7, Reward 20\n",
      "Saving frames to ep007_020.npy...\n",
      "Episode 8, Reward 16\n",
      "Episode 9, Reward 17\n",
      "Episode 10, Reward 12\n",
      "Episode 11, Reward 19\n",
      "Episode 12, Reward 16\n",
      "Episode 13, Reward 18\n",
      "Episode 14, Reward 18\n",
      "Episode 15, Reward 19\n",
      "Episode 16, Reward 15\n",
      "Episode 17, Reward 12\n",
      "Episode 18, Reward 15\n",
      "Episode 19, Reward 21\n",
      "Saving frames to ep019_021.npy...\n",
      "Episode 20, Reward 17\n",
      "Episode 21, Reward 18\n",
      "Episode 22, Reward 13\n",
      "Episode 23, Reward 18\n",
      "Episode 24, Reward 19\n",
      "Episode 25, Reward 20\n",
      "Episode 26, Reward 17\n",
      "Episode 27, Reward 15\n",
      "Episode 28, Reward 14\n",
      "Episode 29, Reward 14\n",
      "Run 30 episodes\n",
      "Mean: 16.466666666666665\n",
      "Exception ignored in: <bound method BaseSession.__del__ of <tensorflow.python.client.session.Session object at 0x7f04fef00c18>>\n",
      "Traceback (most recent call last):\n",
      "  File \"/usr/local/lib/python3.5/dist-packages/tensorflow/python/client/session.py\", line 707, in __del__\n",
      "TypeError: 'NoneType' object is not callable\n"
     ]
    }
   ],
   "source": [
    "!python3 test.py --test_pg"
   ]
  },
  {
   "cell_type": "code",
   "execution_count": 39,
   "metadata": {},
   "outputs": [
    {
     "name": "stdout",
     "output_type": "stream",
     "text": [
      "2018-07-12 13:24:43.338512: I tensorflow/core/platform/cpu_feature_guard.cc:141] Your CPU supports instructions that this TensorFlow binary was not compiled to use: AVX2 FMA\n",
      "2018-07-12 13:24:43.535837: E tensorflow/stream_executor/cuda/cuda_gpu_executor.cc:883] could not open file to read NUMA node: /sys/bus/pci/devices/0000:04:00.0/numa_node\n",
      "Your kernel may have been built without NUMA support.\n",
      "2018-07-12 13:24:43.536468: I tensorflow/core/common_runtime/gpu/gpu_device.cc:1392] Found device 0 with properties: \n",
      "name: GeForce GTX 1080 Ti major: 6 minor: 1 memoryClockRate(GHz): 1.6325\n",
      "pciBusID: 0000:04:00.0\n",
      "totalMemory: 10.91GiB freeMemory: 10.75GiB\n",
      "2018-07-12 13:24:43.536498: I tensorflow/core/common_runtime/gpu/gpu_device.cc:1471] Adding visible gpu devices: 0\n",
      "2018-07-12 13:24:43.804026: I tensorflow/core/common_runtime/gpu/gpu_device.cc:952] Device interconnect StreamExecutor with strength 1 edge matrix:\n",
      "2018-07-12 13:24:43.804074: I tensorflow/core/common_runtime/gpu/gpu_device.cc:958]      0 \n",
      "2018-07-12 13:24:43.804085: I tensorflow/core/common_runtime/gpu/gpu_device.cc:971] 0:   N \n",
      "2018-07-12 13:24:43.804311: I tensorflow/core/common_runtime/gpu/gpu_device.cc:1158] Could not identify NUMA node of CUDA gpu id 0, defaulting to 0.  Your kernel may not have been built with NUMA support.\n",
      "2018-07-12 13:24:43.804369: I tensorflow/core/common_runtime/gpu/gpu_device.cc:1084] Created TensorFlow device (/job:localhost/replica:0/task:0/device:GPU:0 with 10401 MB memory) -> physical GPU (device: 0, name: GeForce GTX 1080 Ti, pci bus id: 0000:04:00.0, compute capability: 6.1)\n",
      "2018-07-12 13:24:43.805756: I tensorflow/core/common_runtime/gpu/gpu_device.cc:1471] Adding visible gpu devices: 0\n",
      "2018-07-12 13:24:43.805789: I tensorflow/core/common_runtime/gpu/gpu_device.cc:952] Device interconnect StreamExecutor with strength 1 edge matrix:\n",
      "2018-07-12 13:24:43.805800: I tensorflow/core/common_runtime/gpu/gpu_device.cc:958]      0 \n",
      "2018-07-12 13:24:43.805809: I tensorflow/core/common_runtime/gpu/gpu_device.cc:971] 0:   N \n",
      "2018-07-12 13:24:43.806048: I tensorflow/core/common_runtime/gpu/gpu_device.cc:1158] Could not identify NUMA node of CUDA gpu id 0, defaulting to 0.  Your kernel may not have been built with NUMA support.\n",
      "2018-07-12 13:24:43.806076: I tensorflow/core/common_runtime/gpu/gpu_device.cc:1084] Created TensorFlow device (/job:localhost/replica:0/task:0/device:GPU:0 with 10401 MB memory) -> physical GPU (device: 0, name: GeForce GTX 1080 Ti, pci bus id: 0000:04:00.0, compute capability: 6.1)\n",
      "Loading checkpoint...\n",
      "Traceback (most recent call last):\n",
      "  File \"test.py\", line 73, in <module>\n",
      "    run(args)\n",
      "  File \"test.py\", line 68, in run\n",
      "    test(agent, env, total_episodes=100)\n",
      "  File \"test.py\", line 40, in test\n",
      "    action = agent.make_action(state, test=True)\n",
      "  File \"/notebooks/jason/@Recently-Snapshot/MLDS2018SPRING/hw4/agent_dir/agent_dqn.py\", line 331, in make_action\n",
      "    action = self.act(observation, True)\n",
      "  File \"/notebooks/jason/@Recently-Snapshot/MLDS2018SPRING/hw4/agent_dir/agent_dqn.py\", line 210, in act\n",
      "    act_values = self.sess.run(self.Q, {self.state:np.expand_dims(state, axis=0)})\n",
      "  File \"/usr/local/lib/python3.5/dist-packages/tensorflow/python/client/session.py\", line 900, in run\n",
      "    run_metadata_ptr)\n",
      "  File \"/usr/local/lib/python3.5/dist-packages/tensorflow/python/client/session.py\", line 1111, in _run\n",
      "    str(subfeed_t.get_shape())))\n",
      "ValueError: Cannot feed value of shape (1, 210, 160, 3) for Tensor 'state:0', which has shape '(?, 84, 84, 4)'\n"
     ]
    }
   ],
   "source": [
    "!python3 test.py --test_dqn"
   ]
  },
  {
   "cell_type": "code",
   "execution_count": 12,
   "metadata": {},
   "outputs": [
    {
     "name": "stdout",
     "output_type": "stream",
     "text": [
      "Collecting array2gif\n",
      "  Downloading https://files.pythonhosted.org/packages/42/f4/4dd66a8b65738ea8f2739a48d0e1a79e6a77c0cfb4b35a890eb9792dc861/array2gif-1.0.4-py3-none-any.whl\n",
      "Requirement already satisfied: numpy in /usr/local/lib/python3.5/dist-packages (from array2gif) (1.14.5)\n",
      "Installing collected packages: array2gif\n",
      "Successfully installed array2gif-1.0.4\n"
     ]
    }
   ],
   "source": [
    "!pip install array2gif"
   ]
  },
  {
   "cell_type": "code",
   "execution_count": 29,
   "metadata": {},
   "outputs": [],
   "source": [
    "import numpy as np\n",
    "from array2gif import write_gif"
   ]
  },
  {
   "cell_type": "code",
   "execution_count": 30,
   "metadata": {},
   "outputs": [
    {
     "name": "stdout",
     "output_type": "stream",
     "text": [
      "(1575, 210, 160, 3)\n"
     ]
    }
   ],
   "source": [
    "frames = np.load('ep019_021.npy')\n",
    "frames = frames[::5]\n",
    "print (frames.shape)"
   ]
  },
  {
   "cell_type": "code",
   "execution_count": 31,
   "metadata": {},
   "outputs": [
    {
     "data": {
      "text/plain": [
       "<matplotlib.image.AxesImage at 0x7f0cc19cb710>"
      ]
     },
     "execution_count": 31,
     "metadata": {},
     "output_type": "execute_result"
    },
    {
     "data": {
      "image/png": "[encoded data removed]",
      "text/plain": [
       "<Figure size 432x288 with 1 Axes>"
      ]
     },
     "metadata": {},
     "output_type": "display_data"
    }
   ],
   "source": [
    "import matplotlib.pyplot as plt\n",
    "plt.imshow(frames[-1])"
   ]
  },
  {
   "cell_type": "code",
   "execution_count": 32,
   "metadata": {},
   "outputs": [],
   "source": [
    "write_gif(frames, 'Pong.gif', fps=30)"
   ]
  },
  {
   "cell_type": "code",
   "execution_count": 79,
   "metadata": {},
   "outputs": [
    {
     "name": "stdout",
     "output_type": "stream",
     "text": [
      "(332, 84, 84, 3)\n"
     ]
    }
   ],
   "source": [
    "frames = np.load('ep003_361.npy')\n",
    "frames = frames[::5, :, :, :1]\n",
    "frames = np.tile(frames, (1, 3))\n",
    "frames = (frames * 255.0 / np.max(frames)).astype(int)\n",
    "print (frames.shape)"
   ]
  },
  {
   "cell_type": "code",
   "execution_count": 80,
   "metadata": {},
   "outputs": [
    {
     "data": {
      "text/plain": [
       "<matplotlib.image.AxesImage at 0x7f0cd46e41d0>"
      ]
     },
     "execution_count": 80,
     "metadata": {},
     "output_type": "execute_result"
    },
    {
     "data": {
      "image/png": "[encoded data removed]",
      "text/plain": [
       "<Figure size 432x288 with 1 Axes>"
      ]
     },
     "metadata": {},
     "output_type": "display_data"
    }
   ],
   "source": [
    "import matplotlib.pyplot as plt\n",
    "plt.imshow(frames[-1])"
   ]
  },
  {
   "cell_type": "code",
   "execution_count": 81,
   "metadata": {},
   "outputs": [],
   "source": [
    "write_gif(frames, 'Breakout.gif', fps=30)"
   ]
  },
  {
   "cell_type": "code",
   "execution_count": null,
   "metadata": {},
   "outputs": [],
   "source": []
  }
 ],
 "metadata": {
  "kernelspec": {
   "display_name": "Python 3",
   "language": "python",
   "name": "python3"
  },
  "language_info": {
   "codemirror_mode": {
    "name": "ipython",
    "version": 3
   },
   "file_extension": ".py",
   "mimetype": "text/x-python",
   "name": "python",
   "nbconvert_exporter": "python",
   "pygments_lexer": "ipython3",
   "version": "3.5.2"
  }
 },
 "nbformat": 4,
 "nbformat_minor": 2
}
